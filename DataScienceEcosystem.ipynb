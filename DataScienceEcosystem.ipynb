{
 "cells": [
  {
   "cell_type": "markdown",
   "id": "b0abdffd-a871-4665-8b25-962dee3087cc",
   "metadata": {},
   "source": [
    "# Data Science Tools and Ecosystem"
   ]
  },
  {
   "cell_type": "markdown",
   "id": "dbde844e-6f08-4e19-be22-dd891d928d2f",
   "metadata": {},
   "source": [
    "In this notebook, Data Science Tools and Ecosystem are summarized."
   ]
  },
  {
   "cell_type": "markdown",
   "id": "49e7be30-5ad1-4b5b-9e15-83446fd8f930",
   "metadata": {},
   "source": [
    "Some of the popular languages that data scientists use are:\n",
    "1. R\n",
    "2. SQL\n",
    "3. Python\n",
    "4. Julia\n",
    "5. Java"
   ]
  },
  {
   "cell_type": "markdown",
   "id": "cba63e21-cc36-4f87-96d0-5ad75796afa6",
   "metadata": {},
   "source": [
    "Some of the commonly used libraries used by data scientists include:\n",
    "1. Pandas\n",
    "2. Seaborn\n",
    "3. Scikit-learn\n",
    "4. Matplotlib\n",
    "5. NumPy"
   ]
  },
  {
   "cell_type": "markdown",
   "id": "bf31425a-028a-41f2-a7c8-3cb50953dad2",
   "metadata": {},
   "source": [
    "| Data Science Tools |\n",
    "|------------------- |\n",
    "| Jupyter Notebook |\n",
    "| Spyder           |\n",
    "| Apache Zeppelin  |"
   ]
  },
  {
   "cell_type": "markdown",
   "id": "8b2abc27-c5af-4c28-8d4b-e6e2cb318785",
   "metadata": {},
   "source": [
    "### Below are a few examples of evaluating arithmatic expressions in Python."
   ]
  },
  {
   "cell_type": "code",
   "execution_count": 1,
   "id": "21fbf86d-b6d0-4a4d-8160-e1a3b687e6a4",
   "metadata": {},
   "outputs": [
    {
     "data": {
      "text/plain": [
       "17"
      ]
     },
     "execution_count": 1,
     "metadata": {},
     "output_type": "execute_result"
    }
   ],
   "source": [
    "# This a simple arithmetic expression to multiply and add integers.\n",
    "(3*4)+5"
   ]
  },
  {
   "cell_type": "code",
   "execution_count": 2,
   "id": "87281b83-4568-4898-bf7b-8710384f778d",
   "metadata": {},
   "outputs": [
    {
     "data": {
      "text/plain": [
       "3.3333333333333335"
      ]
     },
     "execution_count": 2,
     "metadata": {},
     "output_type": "execute_result"
    }
   ],
   "source": [
    "# This will convert 200 minutes to hours by dividing by 60.\n",
    "200/60"
   ]
  },
  {
   "cell_type": "markdown",
   "id": "1172001f-278d-4c2d-81be-e90a57f237e2",
   "metadata": {},
   "source": [
    "__Objectives:__\n",
    "* Create commonly used libraries for Data Science\n",
    "* Create and evaluate arithmetic expressions in python\n",
    "* Convert minutes to hours using Python\n",
    "* Create tables and headings using Markdowns\n",
    "* List popular Languages for Data Science "
   ]
  },
  {
   "cell_type": "markdown",
   "id": "33fe85eb-0292-4edf-9489-364c15d3d1d2",
   "metadata": {},
   "source": [
    "## Author\n",
    "Lakshmi Holla"
   ]
  },
  {
   "cell_type": "code",
   "execution_count": null,
   "id": "5c7a97c1-c985-415c-ac11-a3f4a0a6061c",
   "metadata": {},
   "outputs": [],
   "source": []
  }
 ],
 "metadata": {
  "kernelspec": {
   "display_name": "Python 3 (ipykernel)",
   "language": "python",
   "name": "python3"
  },
  "language_info": {
   "codemirror_mode": {
    "name": "ipython",
    "version": 3
   },
   "file_extension": ".py",
   "mimetype": "text/x-python",
   "name": "python",
   "nbconvert_exporter": "python",
   "pygments_lexer": "ipython3",
   "version": "3.11.9"
  }
 },
 "nbformat": 4,
 "nbformat_minor": 5
}
